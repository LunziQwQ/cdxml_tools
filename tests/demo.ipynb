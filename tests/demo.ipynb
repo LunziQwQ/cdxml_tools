{
    "cells": [
        {
            "cell_type": "code",
            "execution_count": null,
            "metadata": {},
            "outputs": [],
            "source": [
                "import os\n",
                "import json\n",
                "import base64\n",
                "import cProfile\n",
                "from cdxml import buildCdxml, parseCdxml\n",
                "\n",
                "os.environ[\"MAGICK_HOME\"] = \"/opt/homebrew/opt/imagemagick/\""
            ]
        },
        {
            "cell_type": "markdown",
            "metadata": {},
            "source": [
                "# Single Reaction"
            ]
        },
        {
            "cell_type": "code",
            "execution_count": null,
            "metadata": {},
            "outputs": [],
            "source": [
                "with open(\"./single.b64data\", \"rb\") as f:\n",
                "    dataBytes = f.read()\n",
                "data = json.loads(base64.b64decode(dataBytes).decode(\"utf-8\"))\n",
                "parseResult, img = parseCdxml(data[\"cdxml\"], svg=data[\"svg\"])\n",
                "img"
            ]
        },
        {
            "cell_type": "markdown",
            "metadata": {},
            "source": [
                "# Multi Reactions"
            ]
        },
        {
            "cell_type": "code",
            "execution_count": null,
            "metadata": {},
            "outputs": [],
            "source": [
                "with open(\"./more.b64data\", \"rb\") as f:\n",
                "    dataBytes = f.read()\n",
                "data = json.loads(base64.b64decode(dataBytes).decode(\"utf-8\"))\n",
                "pngBytes = base64.b64decode(data[\"png\"])\n",
                "\n",
                "parseResult, img = parseCdxml(data[\"cdxml\"], png=pngBytes)\n",
                "img"
            ]
        },
        {
            "cell_type": "markdown",
            "metadata": {},
            "source": [
                "# Group Tag"
            ]
        },
        {
            "cell_type": "code",
            "execution_count": null,
            "metadata": {},
            "outputs": [],
            "source": [
                "with open(\"./groupTag.b64data\", \"rb\") as f:\n",
                "    dataBytes = f.read()\n",
                "data = json.loads(base64.b64decode(dataBytes).decode(\"utf-8\"))\n",
                "\n",
                "parseResult, img = parseCdxml(data[\"cdxml\"], svg=data[\"svg\"])\n",
                "img"
            ]
        },
        {
            "cell_type": "markdown",
            "metadata": {},
            "source": [
                "# 合成路线"
            ]
        },
        {
            "cell_type": "code",
            "execution_count": null,
            "metadata": {},
            "outputs": [],
            "source": [
                "with open(\"./path.b64data\", \"rb\") as f:\n",
                "    dataBytes = f.read()\n",
                "data = json.loads(base64.b64decode(dataBytes).decode(\"utf-8\"))\n",
                "\n",
                "parseResult, img = parseCdxml(data[\"cdxml\"], svg=data[\"svg\"])\n",
                "img"
            ]
        },
        {
            "cell_type": "markdown",
            "metadata": {},
            "source": [
                "# CDXML Builder"
            ]
        },
        {
            "cell_type": "code",
            "execution_count": null,
            "metadata": {},
            "outputs": [],
            "source": [
                "with open(\"../tests/demo.json\", \"r\") as f:\n",
                "    jsonData = json.loads(f.read())\n",
                "\n",
                "buildCdxml(jsonData)"
            ]
        },
        {
            "cell_type": "markdown",
            "metadata": {},
            "source": [
                "# Benchmark"
            ]
        },
        {
            "cell_type": "code",
            "execution_count": null,
            "metadata": {},
            "outputs": [],
            "source": [
                "def analysis():\n",
                "    with open(\"./more.b64data\", \"rb\") as f:\n",
                "        dataBytes = f.read()\n",
                "    data = json.loads(base64.b64decode(dataBytes).decode(\"utf-8\"))\n",
                "    pngBytes = base64.b64decode(data[\"png\"])\n",
                "\n",
                "    parseResult, img = parseCdxml(data[\"cdxml\"], png=pngBytes)\n",
                "\n",
                "    return parseResult\n",
                "cProfile.run(\"analysis()\")"
            ]
        }
    ],
    "metadata": {
        "kernelspec": {
            "display_name": "Python 3.8.13 ('xip')",
            "language": "python",
            "name": "python3"
        },
        "language_info": {
            "codemirror_mode": {
                "name": "ipython",
                "version": 3
            },
            "file_extension": ".py",
            "mimetype": "text/x-python",
            "name": "python",
            "nbconvert_exporter": "python",
            "pygments_lexer": "ipython3",
            "version": "3.11.5"
        },
        "orig_nbformat": 4,
        "vscode": {
            "interpreter": {
                "hash": "c4b2542a0f26fdfd8d63190453926e4d1c82bf2c62c93e6419b90132b121618f"
            }
        }
    },
    "nbformat": 4,
    "nbformat_minor": 2
}
